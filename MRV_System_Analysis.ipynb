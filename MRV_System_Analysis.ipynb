{
 "cells": [
  {
   "cell_type": "markdown",
   "id": "0087e9bf",
   "metadata": {},
   "source": [
    "### Table of Contents\n",
    "\n",
    "- [1. Import Packages](#import)\n",
    "- [2. Load Data](#load)\n",
    "- [3. Num of Ships per Type](#num)\n",
    "- [4. Dist Travelled](#dist)\n",
    "- [5. Collect DWT Data](#dwt_collect)\n",
    "- [6. Emmission Profiles](#emis)\n",
    "- [7. Emmission Intensity vs DWT](#dwt)"
   ]
  },
  {
   "cell_type": "markdown",
   "id": "a9cc805c",
   "metadata": {},
   "source": [
    "<a id='import'></a>\n",
    "### Import Necessary Packages"
   ]
  },
  {
   "cell_type": "code",
   "execution_count": 1,
   "id": "7df2f1d5",
   "metadata": {},
   "outputs": [],
   "source": [
    "import pandas as pd\n",
    "import numpy as np\n",
    "import os\n",
    "import re\n",
    "import matplotlib.pyplot as plt\n",
    "import requests\n",
    "from bs4 import BeautifulSoup as bs\n",
    "import json"
   ]
  },
  {
   "cell_type": "markdown",
   "id": "6cd295d9",
   "metadata": {},
   "source": [
    "<a id='load'></a>\n",
    "### Load in the data\n",
    "\n",
    "This assumes that data has been downloaded manually from https://mrv.emsa.europa.eu/#public/emission-report\n",
    "\n",
    "for 2018, 19, 20, 21"
   ]
  },
  {
   "cell_type": "code",
   "execution_count": 2,
   "id": "687b265e",
   "metadata": {},
   "outputs": [
    {
     "data": {
      "text/plain": [
       "'/Users/u1079317/Desktop/analysis'"
      ]
     },
     "execution_count": 2,
     "metadata": {},
     "output_type": "execute_result"
    }
   ],
   "source": [
    "os.getcwd()"
   ]
  },
  {
   "cell_type": "code",
   "execution_count": 3,
   "id": "8aef4dd8",
   "metadata": {},
   "outputs": [],
   "source": [
    "#Replace space in file names with _\n",
    "os.chdir('/Users/u1079317/Desktop/analysis/data')\n",
    "for f in os.listdir(os.getcwd()):\n",
    "    if '.xlsx' in f:\n",
    "        os.rename(f, f.replace(' ','_'))"
   ]
  },
  {
   "cell_type": "code",
   "execution_count": 8,
   "id": "628c818b",
   "metadata": {},
   "outputs": [
    {
     "name": "stdout",
     "output_type": "stream",
     "text": [
      "2018-v267-24062022-EU_MRV_Publication_of_information.xlsx\n",
      "2019-v208-29062022-EU_MRV_Publication_of_information.xlsx\n",
      "2020-v166-26072022-EU_MRV_Publication_of_information.xlsx\n",
      "2021-v28-09082022-EU_MRV_Publication_of_information.xlsx\n"
     ]
    }
   ],
   "source": [
    "for f in os.listdir(os.getcwd()):\n",
    "    if 'xlsx' in f:\n",
    "        print(f)"
   ]
  },
  {
   "cell_type": "code",
   "execution_count": 10,
   "id": "882d46df",
   "metadata": {},
   "outputs": [
    {
     "name": "stderr",
     "output_type": "stream",
     "text": [
      "/Users/u1079317/Desktop/analysis/venv/lib/python3.9/site-packages/openpyxl/styles/stylesheet.py:226: UserWarning: Workbook contains no default style, apply openpyxl's default\n",
      "  warn(\"Workbook contains no default style, apply openpyxl's default\")\n",
      "/Users/u1079317/Desktop/analysis/venv/lib/python3.9/site-packages/openpyxl/styles/stylesheet.py:226: UserWarning: Workbook contains no default style, apply openpyxl's default\n",
      "  warn(\"Workbook contains no default style, apply openpyxl's default\")\n",
      "/Users/u1079317/Desktop/analysis/venv/lib/python3.9/site-packages/openpyxl/styles/stylesheet.py:226: UserWarning: Workbook contains no default style, apply openpyxl's default\n",
      "  warn(\"Workbook contains no default style, apply openpyxl's default\")\n",
      "/Users/u1079317/Desktop/analysis/venv/lib/python3.9/site-packages/openpyxl/styles/stylesheet.py:226: UserWarning: Workbook contains no default style, apply openpyxl's default\n",
      "  warn(\"Workbook contains no default style, apply openpyxl's default\")\n"
     ]
    }
   ],
   "source": [
    "dfs = [pd.read_excel(f, skiprows=2, engine='openpyxl') for f in os.listdir(os.getcwd()) if 'xlsx' in f]"
   ]
  },
  {
   "cell_type": "code",
   "execution_count": 11,
   "id": "47927808",
   "metadata": {},
   "outputs": [],
   "source": [
    "#Rename columns to prevent spaces in words. Replace with \"_\"\n",
    "for d in dfs:\n",
    "    d.columns = [c.replace(' ','_') for c in d.columns]"
   ]
  },
  {
   "cell_type": "code",
   "execution_count": 12,
   "id": "a301b1eb",
   "metadata": {},
   "outputs": [
    {
     "name": "stdout",
     "output_type": "stream",
     "text": [
      "comparing_0_1: columns match: 61\n",
      "comparing_0_2: columns match: 59\n",
      "comparing_0_3: columns match: 59\n",
      "comparing_1_2: columns match: 59\n",
      "comparing_1_3: columns match: 59\n",
      "comparing_2_3: columns match: 61\n"
     ]
    }
   ],
   "source": [
    "#Check whether columns match \n",
    "res = {}\n",
    "for i, d in enumerate(dfs):\n",
    "    for j, d2 in enumerate(dfs):\n",
    "        if i != j and not res.get(f'comparing_{\"_\".join(map(str,sorted([i,j])))}'):\n",
    "            res[f'comparing_{\"_\".join(map(str,sorted([i,j])))}'] = f'columns match: {sum(d.columns == d2.columns)}'\n",
    "            print(f'comparing_{\"_\".join(map(str,sorted([i,j])))}: columns match: {sum(d.columns == d2.columns)}')"
   ]
  },
  {
   "cell_type": "code",
   "execution_count": 13,
   "id": "96e53a89",
   "metadata": {},
   "outputs": [
    {
     "data": {
      "text/plain": [
       "Index(['Annual_Time_spent_at_sea_[hours]', 'Time_spent_at_sea_[hours]'], dtype='object')"
      ]
     },
     "execution_count": 13,
     "metadata": {},
     "output_type": "execute_result"
    }
   ],
   "source": [
    "#Some columns for 2018-19 don't match with 2020-21. Manually Correct\n",
    "dfs[0].columns[list(np.where(np.array(dfs[0].columns == dfs[3].columns) == False)[0])]\n",
    "dfs[3].columns[list(np.where(np.array(dfs[3].columns == dfs[0].columns) == False)[0])]"
   ]
  },
  {
   "cell_type": "code",
   "execution_count": 14,
   "id": "67a8669d",
   "metadata": {},
   "outputs": [],
   "source": [
    "dfs[3].rename(columns={'Annual_Time_spent_at_sea_[hours]':'Annual_Total_time_spent_at_sea_[hours]',\n",
    "                       'Time_spent_at_sea_[hours]':'Total_time_spent_at_sea_[hours]'}, \n",
    "              inplace=True)"
   ]
  },
  {
   "cell_type": "code",
   "execution_count": 15,
   "id": "008f44a0",
   "metadata": {},
   "outputs": [],
   "source": [
    "dfs[2].rename(columns={'Annual_Time_spent_at_sea_[hours]':'Annual_Total_time_spent_at_sea_[hours]',\n",
    "                       'Time_spent_at_sea_[hours]':'Total_time_spent_at_sea_[hours]'}, \n",
    "              inplace=True)"
   ]
  },
  {
   "cell_type": "code",
   "execution_count": 16,
   "id": "c34a4994",
   "metadata": {},
   "outputs": [],
   "source": [
    "df_c = pd.concat(dfs)"
   ]
  },
  {
   "cell_type": "code",
   "execution_count": 17,
   "id": "e320f40b",
   "metadata": {},
   "outputs": [
    {
     "data": {
      "text/plain": [
       "(48559, 61)"
      ]
     },
     "execution_count": 17,
     "metadata": {},
     "output_type": "execute_result"
    }
   ],
   "source": [
    "df_c.shape"
   ]
  },
  {
   "cell_type": "markdown",
   "id": "3cd3cec9",
   "metadata": {},
   "source": [
    "<a id='num'></a>\n",
    "### Calculate the number of ships in each type:\n",
    "\n",
    "IMO_Number for a vessel remains constant, but the ownership can change along with the name. There is evidence of this for [SONGA PUMAContainer Ship, IMO 9399789](https://www.vesselfinder.com/vessels/SONGA-PUMA-IMO-9399789-MMSI-636020352)\n",
    "\n",
    "This shows that the vessel name has changed several times since 2009. Due to name changes, it will be most appropriate to perform any aggregations on the IMO as the unique identifier.\n",
    "\n",
    "There are some ships which have multiple ship types associated to a single IMO_Number.\n",
    "\n",
    "e.g\n",
    "\n",
    "[SONATA](https://www.vesselfinder.com/vessels/SONATA-IMO-9316103-MMSI-277562000) which is listed as Other, Cargo and Container ship."
   ]
  },
  {
   "cell_type": "code",
   "execution_count": 18,
   "id": "24d098c5",
   "metadata": {},
   "outputs": [
    {
     "data": {
      "text/plain": [
       "Ship_type\n",
       "Bulk carrier                  6411\n",
       "Oil tanker                    2940\n",
       "Container ship                2565\n",
       "Chemical tanker               1963\n",
       "General cargo ship            1618\n",
       "Vehicle carrier                588\n",
       "Gas carrier                    539\n",
       "Ro-pax ship                    434\n",
       "LNG carrier                    381\n",
       "Ro-ro ship                     325\n",
       "Other ship types               276\n",
       "Passenger ship                 238\n",
       "Refrigerated cargo carrier     202\n",
       "Container/ro-ro cargo ship      89\n",
       "Combination carrier             18\n",
       "Name: IMO_Number, dtype: int64"
      ]
     },
     "execution_count": 18,
     "metadata": {},
     "output_type": "execute_result"
    }
   ],
   "source": [
    "df_c.groupby('Ship_type').IMO_Number.nunique().sort_values(ascending=False)"
   ]
  },
  {
   "cell_type": "code",
   "execution_count": 19,
   "id": "f2c9e2bd",
   "metadata": {},
   "outputs": [
    {
     "data": {
      "text/plain": [
       "Ship_type\n",
       "Bulk carrier                  6806\n",
       "Oil tanker                    3094\n",
       "Container ship                2895\n",
       "Chemical tanker               2152\n",
       "General cargo ship            1834\n",
       "Vehicle carrier                606\n",
       "Gas carrier                    563\n",
       "Ro-pax ship                    467\n",
       "LNG carrier                    388\n",
       "Ro-ro ship                     354\n",
       "Other ship types               288\n",
       "Passenger ship                 240\n",
       "Refrigerated cargo carrier     220\n",
       "Container/ro-ro cargo ship      90\n",
       "Combination carrier             18\n",
       "Name: Name, dtype: int64"
      ]
     },
     "execution_count": 19,
     "metadata": {},
     "output_type": "execute_result"
    }
   ],
   "source": [
    "df_c.groupby('Ship_type').Name.nunique().sort_values(ascending=False)"
   ]
  },
  {
   "cell_type": "code",
   "execution_count": 20,
   "id": "4c7d17a8",
   "metadata": {},
   "outputs": [
    {
     "data": {
      "text/plain": [
       "IMO_Number\n",
       "9399789    4\n",
       "9438444    3\n",
       "9353084    3\n",
       "9458975    3\n",
       "9246346    3\n",
       "          ..\n",
       "9377652    1\n",
       "9377664    1\n",
       "9377688    1\n",
       "9377690    1\n",
       "9924912    1\n",
       "Name: Name, Length: 18191, dtype: int64"
      ]
     },
     "execution_count": 20,
     "metadata": {},
     "output_type": "execute_result"
    }
   ],
   "source": [
    "df_c.groupby('IMO_Number').Name.nunique().sort_values(ascending=False)"
   ]
  },
  {
   "cell_type": "code",
   "execution_count": 21,
   "id": "7b58cd3b",
   "metadata": {},
   "outputs": [
    {
     "data": {
      "text/html": [
       "<div>\n",
       "<style scoped>\n",
       "    .dataframe tbody tr th:only-of-type {\n",
       "        vertical-align: middle;\n",
       "    }\n",
       "\n",
       "    .dataframe tbody tr th {\n",
       "        vertical-align: top;\n",
       "    }\n",
       "\n",
       "    .dataframe thead th {\n",
       "        text-align: right;\n",
       "    }\n",
       "</style>\n",
       "<table border=\"1\" class=\"dataframe\">\n",
       "  <thead>\n",
       "    <tr style=\"text-align: right;\">\n",
       "      <th></th>\n",
       "      <th>IMO_Number</th>\n",
       "      <th>Name</th>\n",
       "      <th>Ship_type</th>\n",
       "      <th>Reporting_Period</th>\n",
       "      <th>Technical_efficiency</th>\n",
       "      <th>Port_of_Registry</th>\n",
       "      <th>Home_Port</th>\n",
       "      <th>Ice_Class</th>\n",
       "      <th>DoC_issue_date</th>\n",
       "      <th>DoC_expiry_date</th>\n",
       "      <th>...</th>\n",
       "      <th>Fuel_consumption_per_transport_work_(pax)_on_laden_voyages_[g_/_pax_·_n_miles]</th>\n",
       "      <th>Fuel_consumption_per_transport_work_(freight)_on_laden_voyages_[g_/_m_tonnes_·_n_miles]</th>\n",
       "      <th>CO₂_emissions_per_distance_on_laden_voyages_[kg_CO₂_/_n_mile]</th>\n",
       "      <th>CO₂_emissions_per_transport_work_(mass)_on_laden_voyages_[g_CO₂_/_m_tonnes_·_n_miles]</th>\n",
       "      <th>CO₂_emissions_per_transport_work_(volume)_on_laden_voyages_[g_CO₂_/_m³_·_n_miles]</th>\n",
       "      <th>CO₂_emissions_per_transport_work_(dwt)_on_laden_voyages_[g_CO₂_/_dwt_carried_·_n_miles]</th>\n",
       "      <th>CO₂_emissions_per_transport_work_(pax)_on_laden_voyages_[g_CO₂_/_pax_·_n_miles]</th>\n",
       "      <th>CO₂_emissions_per_transport_work_(freight)_on_laden_voyages_[g_CO₂_/_m_tonnes_·_n_miles]</th>\n",
       "      <th>Additional_information_to_facilitate_the_understanding_of_the_reported_average_operational_energy_efficiency_indicators</th>\n",
       "      <th>Average_density_of_the_cargo_transported_[m_tonnes_/_m³]</th>\n",
       "    </tr>\n",
       "  </thead>\n",
       "  <tbody>\n",
       "    <tr>\n",
       "      <th>5429</th>\n",
       "      <td>9399789</td>\n",
       "      <td>CAP ROCA</td>\n",
       "      <td>Container ship</td>\n",
       "      <td>2018</td>\n",
       "      <td>NaN</td>\n",
       "      <td>NaN</td>\n",
       "      <td>NaN</td>\n",
       "      <td>NaN</td>\n",
       "      <td>02/04/2019</td>\n",
       "      <td>30/06/2020</td>\n",
       "      <td>...</td>\n",
       "      <td>NaN</td>\n",
       "      <td>NaN</td>\n",
       "      <td>NaN</td>\n",
       "      <td>NaN</td>\n",
       "      <td>NaN</td>\n",
       "      <td>NaN</td>\n",
       "      <td>NaN</td>\n",
       "      <td>NaN</td>\n",
       "      <td>NaN</td>\n",
       "      <td>NaN</td>\n",
       "    </tr>\n",
       "    <tr>\n",
       "      <th>5254</th>\n",
       "      <td>9399789</td>\n",
       "      <td>ALGARROBO</td>\n",
       "      <td>Container ship</td>\n",
       "      <td>2019</td>\n",
       "      <td>EEDI (17.87 gCO₂/t·nm)</td>\n",
       "      <td>Monrovia</td>\n",
       "      <td>NaN</td>\n",
       "      <td>NaN</td>\n",
       "      <td>29/07/2020</td>\n",
       "      <td>30/06/2021</td>\n",
       "      <td>...</td>\n",
       "      <td>NaN</td>\n",
       "      <td>NaN</td>\n",
       "      <td>NaN</td>\n",
       "      <td>NaN</td>\n",
       "      <td>NaN</td>\n",
       "      <td>NaN</td>\n",
       "      <td>NaN</td>\n",
       "      <td>NaN</td>\n",
       "      <td>NaN</td>\n",
       "      <td>NaN</td>\n",
       "    </tr>\n",
       "    <tr>\n",
       "      <th>4829</th>\n",
       "      <td>9399789</td>\n",
       "      <td>ROBIN 1</td>\n",
       "      <td>Container ship</td>\n",
       "      <td>2020</td>\n",
       "      <td>EIV (11.87 gCO₂/t·nm)</td>\n",
       "      <td>Monrovia</td>\n",
       "      <td>NaN</td>\n",
       "      <td>NaN</td>\n",
       "      <td>17/04/2021</td>\n",
       "      <td>30/06/2022</td>\n",
       "      <td>...</td>\n",
       "      <td>NaN</td>\n",
       "      <td>NaN</td>\n",
       "      <td>NaN</td>\n",
       "      <td>NaN</td>\n",
       "      <td>NaN</td>\n",
       "      <td>NaN</td>\n",
       "      <td>NaN</td>\n",
       "      <td>NaN</td>\n",
       "      <td>NaN</td>\n",
       "      <td>NaN</td>\n",
       "    </tr>\n",
       "    <tr>\n",
       "      <th>4380</th>\n",
       "      <td>9399789</td>\n",
       "      <td>SONGA PUMA</td>\n",
       "      <td>Container ship</td>\n",
       "      <td>2021</td>\n",
       "      <td>EEDI (17.87 gCO₂/t·nm)</td>\n",
       "      <td>Monrovia</td>\n",
       "      <td>NaN</td>\n",
       "      <td>NaN</td>\n",
       "      <td>27/06/2022</td>\n",
       "      <td>30/06/2023</td>\n",
       "      <td>...</td>\n",
       "      <td>NaN</td>\n",
       "      <td>NaN</td>\n",
       "      <td>NaN</td>\n",
       "      <td>NaN</td>\n",
       "      <td>NaN</td>\n",
       "      <td>NaN</td>\n",
       "      <td>NaN</td>\n",
       "      <td>NaN</td>\n",
       "      <td>NaN</td>\n",
       "      <td>NaN</td>\n",
       "    </tr>\n",
       "  </tbody>\n",
       "</table>\n",
       "<p>4 rows × 61 columns</p>\n",
       "</div>"
      ],
      "text/plain": [
       "      IMO_Number        Name       Ship_type  Reporting_Period  \\\n",
       "5429     9399789    CAP ROCA  Container ship              2018   \n",
       "5254     9399789   ALGARROBO  Container ship              2019   \n",
       "4829     9399789     ROBIN 1  Container ship              2020   \n",
       "4380     9399789  SONGA PUMA  Container ship              2021   \n",
       "\n",
       "        Technical_efficiency Port_of_Registry Home_Port Ice_Class  \\\n",
       "5429                     NaN              NaN       NaN       NaN   \n",
       "5254  EEDI (17.87 gCO₂/t·nm)         Monrovia       NaN       NaN   \n",
       "4829   EIV (11.87 gCO₂/t·nm)         Monrovia       NaN       NaN   \n",
       "4380  EEDI (17.87 gCO₂/t·nm)         Monrovia       NaN       NaN   \n",
       "\n",
       "     DoC_issue_date DoC_expiry_date  ...  \\\n",
       "5429     02/04/2019      30/06/2020  ...   \n",
       "5254     29/07/2020      30/06/2021  ...   \n",
       "4829     17/04/2021      30/06/2022  ...   \n",
       "4380     27/06/2022      30/06/2023  ...   \n",
       "\n",
       "     Fuel_consumption_per_transport_work_(pax)_on_laden_voyages_[g_/_pax_·_n_miles]  \\\n",
       "5429                                                NaN                               \n",
       "5254                                                NaN                               \n",
       "4829                                                NaN                               \n",
       "4380                                                NaN                               \n",
       "\n",
       "     Fuel_consumption_per_transport_work_(freight)_on_laden_voyages_[g_/_m_tonnes_·_n_miles]  \\\n",
       "5429                                                NaN                                        \n",
       "5254                                                NaN                                        \n",
       "4829                                                NaN                                        \n",
       "4380                                                NaN                                        \n",
       "\n",
       "     CO₂_emissions_per_distance_on_laden_voyages_[kg_CO₂_/_n_mile]  \\\n",
       "5429                                                NaN              \n",
       "5254                                                NaN              \n",
       "4829                                                NaN              \n",
       "4380                                                NaN              \n",
       "\n",
       "     CO₂_emissions_per_transport_work_(mass)_on_laden_voyages_[g_CO₂_/_m_tonnes_·_n_miles]  \\\n",
       "5429                                                NaN                                      \n",
       "5254                                                NaN                                      \n",
       "4829                                                NaN                                      \n",
       "4380                                                NaN                                      \n",
       "\n",
       "     CO₂_emissions_per_transport_work_(volume)_on_laden_voyages_[g_CO₂_/_m³_·_n_miles]  \\\n",
       "5429                                                NaN                                  \n",
       "5254                                                NaN                                  \n",
       "4829                                                NaN                                  \n",
       "4380                                                NaN                                  \n",
       "\n",
       "     CO₂_emissions_per_transport_work_(dwt)_on_laden_voyages_[g_CO₂_/_dwt_carried_·_n_miles]  \\\n",
       "5429                                                NaN                                        \n",
       "5254                                                NaN                                        \n",
       "4829                                                NaN                                        \n",
       "4380                                                NaN                                        \n",
       "\n",
       "     CO₂_emissions_per_transport_work_(pax)_on_laden_voyages_[g_CO₂_/_pax_·_n_miles]  \\\n",
       "5429                                                NaN                                \n",
       "5254                                                NaN                                \n",
       "4829                                                NaN                                \n",
       "4380                                                NaN                                \n",
       "\n",
       "     CO₂_emissions_per_transport_work_(freight)_on_laden_voyages_[g_CO₂_/_m_tonnes_·_n_miles]  \\\n",
       "5429                                                NaN                                         \n",
       "5254                                                NaN                                         \n",
       "4829                                                NaN                                         \n",
       "4380                                                NaN                                         \n",
       "\n",
       "     Additional_information_to_facilitate_the_understanding_of_the_reported_average_operational_energy_efficiency_indicators  \\\n",
       "5429                                                NaN                                                                        \n",
       "5254                                                NaN                                                                        \n",
       "4829                                                NaN                                                                        \n",
       "4380                                                NaN                                                                        \n",
       "\n",
       "     Average_density_of_the_cargo_transported_[m_tonnes_/_m³]  \n",
       "5429                                                NaN        \n",
       "5254                                                NaN        \n",
       "4829                                                NaN        \n",
       "4380                                                NaN        \n",
       "\n",
       "[4 rows x 61 columns]"
      ]
     },
     "execution_count": 21,
     "metadata": {},
     "output_type": "execute_result"
    }
   ],
   "source": [
    "#Investigation of ships history shows that the name has changed multiple times:\n",
    "#Therefore more appropritate to sort by IMO_Number which remains constant\n",
    "df_c[df_c['IMO_Number'] == 9399789]"
   ]
  },
  {
   "cell_type": "code",
   "execution_count": 22,
   "id": "014de78a",
   "metadata": {},
   "outputs": [
    {
     "data": {
      "text/html": [
       "<div>\n",
       "<style scoped>\n",
       "    .dataframe tbody tr th:only-of-type {\n",
       "        vertical-align: middle;\n",
       "    }\n",
       "\n",
       "    .dataframe tbody tr th {\n",
       "        vertical-align: top;\n",
       "    }\n",
       "\n",
       "    .dataframe thead th {\n",
       "        text-align: right;\n",
       "    }\n",
       "</style>\n",
       "<table border=\"1\" class=\"dataframe\">\n",
       "  <thead>\n",
       "    <tr style=\"text-align: right;\">\n",
       "      <th></th>\n",
       "      <th>Ship_type</th>\n",
       "    </tr>\n",
       "    <tr>\n",
       "      <th>IMO_Number</th>\n",
       "      <th></th>\n",
       "    </tr>\n",
       "  </thead>\n",
       "  <tbody>\n",
       "    <tr>\n",
       "      <th>9316103</th>\n",
       "      <td>3</td>\n",
       "    </tr>\n",
       "    <tr>\n",
       "      <th>9180968</th>\n",
       "      <td>3</td>\n",
       "    </tr>\n",
       "    <tr>\n",
       "      <th>9306835</th>\n",
       "      <td>3</td>\n",
       "    </tr>\n",
       "    <tr>\n",
       "      <th>9186687</th>\n",
       "      <td>3</td>\n",
       "    </tr>\n",
       "    <tr>\n",
       "      <th>9771913</th>\n",
       "      <td>3</td>\n",
       "    </tr>\n",
       "    <tr>\n",
       "      <th>...</th>\n",
       "      <td>...</td>\n",
       "    </tr>\n",
       "    <tr>\n",
       "      <th>9365623</th>\n",
       "      <td>1</td>\n",
       "    </tr>\n",
       "    <tr>\n",
       "      <th>9365635</th>\n",
       "      <td>1</td>\n",
       "    </tr>\n",
       "    <tr>\n",
       "      <th>9365659</th>\n",
       "      <td>1</td>\n",
       "    </tr>\n",
       "    <tr>\n",
       "      <th>9365661</th>\n",
       "      <td>1</td>\n",
       "    </tr>\n",
       "    <tr>\n",
       "      <th>9924912</th>\n",
       "      <td>1</td>\n",
       "    </tr>\n",
       "  </tbody>\n",
       "</table>\n",
       "<p>18191 rows × 1 columns</p>\n",
       "</div>"
      ],
      "text/plain": [
       "            Ship_type\n",
       "IMO_Number           \n",
       "9316103             3\n",
       "9180968             3\n",
       "9306835             3\n",
       "9186687             3\n",
       "9771913             3\n",
       "...               ...\n",
       "9365623             1\n",
       "9365635             1\n",
       "9365659             1\n",
       "9365661             1\n",
       "9924912             1\n",
       "\n",
       "[18191 rows x 1 columns]"
      ]
     },
     "execution_count": 22,
     "metadata": {},
     "output_type": "execute_result"
    }
   ],
   "source": [
    "#Some ships appear to have multiple Ship Types associated with them\n",
    "\n",
    "df_c[['IMO_Number','Ship_type']]\\\n",
    ".drop_duplicates()\\\n",
    ".groupby('IMO_Number')\\\n",
    ".count()\\\n",
    ".sort_values(by='Ship_type', ascending=False)"
   ]
  },
  {
   "cell_type": "code",
   "execution_count": 23,
   "id": "98fb8d43",
   "metadata": {},
   "outputs": [
    {
     "data": {
      "text/html": [
       "<div>\n",
       "<style scoped>\n",
       "    .dataframe tbody tr th:only-of-type {\n",
       "        vertical-align: middle;\n",
       "    }\n",
       "\n",
       "    .dataframe tbody tr th {\n",
       "        vertical-align: top;\n",
       "    }\n",
       "\n",
       "    .dataframe thead th {\n",
       "        text-align: right;\n",
       "    }\n",
       "</style>\n",
       "<table border=\"1\" class=\"dataframe\">\n",
       "  <thead>\n",
       "    <tr style=\"text-align: right;\">\n",
       "      <th></th>\n",
       "      <th>IMO_Number</th>\n",
       "      <th>Name</th>\n",
       "      <th>Ship_type</th>\n",
       "      <th>Reporting_Period</th>\n",
       "      <th>Technical_efficiency</th>\n",
       "      <th>Port_of_Registry</th>\n",
       "      <th>Home_Port</th>\n",
       "      <th>Ice_Class</th>\n",
       "      <th>DoC_issue_date</th>\n",
       "      <th>DoC_expiry_date</th>\n",
       "      <th>...</th>\n",
       "      <th>Fuel_consumption_per_transport_work_(pax)_on_laden_voyages_[g_/_pax_·_n_miles]</th>\n",
       "      <th>Fuel_consumption_per_transport_work_(freight)_on_laden_voyages_[g_/_m_tonnes_·_n_miles]</th>\n",
       "      <th>CO₂_emissions_per_distance_on_laden_voyages_[kg_CO₂_/_n_mile]</th>\n",
       "      <th>CO₂_emissions_per_transport_work_(mass)_on_laden_voyages_[g_CO₂_/_m_tonnes_·_n_miles]</th>\n",
       "      <th>CO₂_emissions_per_transport_work_(volume)_on_laden_voyages_[g_CO₂_/_m³_·_n_miles]</th>\n",
       "      <th>CO₂_emissions_per_transport_work_(dwt)_on_laden_voyages_[g_CO₂_/_dwt_carried_·_n_miles]</th>\n",
       "      <th>CO₂_emissions_per_transport_work_(pax)_on_laden_voyages_[g_CO₂_/_pax_·_n_miles]</th>\n",
       "      <th>CO₂_emissions_per_transport_work_(freight)_on_laden_voyages_[g_CO₂_/_m_tonnes_·_n_miles]</th>\n",
       "      <th>Additional_information_to_facilitate_the_understanding_of_the_reported_average_operational_energy_efficiency_indicators</th>\n",
       "      <th>Average_density_of_the_cargo_transported_[m_tonnes_/_m³]</th>\n",
       "    </tr>\n",
       "  </thead>\n",
       "  <tbody>\n",
       "    <tr>\n",
       "      <th>3473</th>\n",
       "      <td>9316103</td>\n",
       "      <td>HANSE FORTUNE</td>\n",
       "      <td>Other ship types</td>\n",
       "      <td>2019</td>\n",
       "      <td>EIV (22.9 gCO₂/t·nm)</td>\n",
       "      <td>Klaipeda</td>\n",
       "      <td>Klaipeda</td>\n",
       "      <td>NaN</td>\n",
       "      <td>06/04/2020</td>\n",
       "      <td>30/06/2021</td>\n",
       "      <td>...</td>\n",
       "      <td>NaN</td>\n",
       "      <td>NaN</td>\n",
       "      <td>NaN</td>\n",
       "      <td>NaN</td>\n",
       "      <td>NaN</td>\n",
       "      <td>NaN</td>\n",
       "      <td>NaN</td>\n",
       "      <td>NaN</td>\n",
       "      <td>NaN</td>\n",
       "      <td>NaN</td>\n",
       "    </tr>\n",
       "    <tr>\n",
       "      <th>3109</th>\n",
       "      <td>9316103</td>\n",
       "      <td>SONATA</td>\n",
       "      <td>Container ship</td>\n",
       "      <td>2020</td>\n",
       "      <td>EIV (22.9 gCO₂/t·nm)</td>\n",
       "      <td>Klaipeda</td>\n",
       "      <td>NaN</td>\n",
       "      <td>NaN</td>\n",
       "      <td>18/02/2021</td>\n",
       "      <td>30/06/2022</td>\n",
       "      <td>...</td>\n",
       "      <td>NaN</td>\n",
       "      <td>NaN</td>\n",
       "      <td>NaN</td>\n",
       "      <td>NaN</td>\n",
       "      <td>NaN</td>\n",
       "      <td>NaN</td>\n",
       "      <td>NaN</td>\n",
       "      <td>NaN</td>\n",
       "      <td>NaN</td>\n",
       "      <td>NaN</td>\n",
       "    </tr>\n",
       "    <tr>\n",
       "      <th>2742</th>\n",
       "      <td>9316103</td>\n",
       "      <td>SONATA</td>\n",
       "      <td>General cargo ship</td>\n",
       "      <td>2021</td>\n",
       "      <td>EIV (22.9 gCO₂/t·nm)</td>\n",
       "      <td>Klaipeda</td>\n",
       "      <td>NaN</td>\n",
       "      <td>NaN</td>\n",
       "      <td>13/04/2022</td>\n",
       "      <td>30/06/2023</td>\n",
       "      <td>...</td>\n",
       "      <td>NaN</td>\n",
       "      <td>NaN</td>\n",
       "      <td>NaN</td>\n",
       "      <td>NaN</td>\n",
       "      <td>NaN</td>\n",
       "      <td>NaN</td>\n",
       "      <td>NaN</td>\n",
       "      <td>NaN</td>\n",
       "      <td>NaN</td>\n",
       "      <td>NaN</td>\n",
       "    </tr>\n",
       "  </tbody>\n",
       "</table>\n",
       "<p>3 rows × 61 columns</p>\n",
       "</div>"
      ],
      "text/plain": [
       "      IMO_Number           Name           Ship_type  Reporting_Period  \\\n",
       "3473     9316103  HANSE FORTUNE    Other ship types              2019   \n",
       "3109     9316103         SONATA      Container ship              2020   \n",
       "2742     9316103         SONATA  General cargo ship              2021   \n",
       "\n",
       "      Technical_efficiency Port_of_Registry Home_Port Ice_Class  \\\n",
       "3473  EIV (22.9 gCO₂/t·nm)         Klaipeda  Klaipeda       NaN   \n",
       "3109  EIV (22.9 gCO₂/t·nm)         Klaipeda       NaN       NaN   \n",
       "2742  EIV (22.9 gCO₂/t·nm)         Klaipeda       NaN       NaN   \n",
       "\n",
       "     DoC_issue_date DoC_expiry_date  ...  \\\n",
       "3473     06/04/2020      30/06/2021  ...   \n",
       "3109     18/02/2021      30/06/2022  ...   \n",
       "2742     13/04/2022      30/06/2023  ...   \n",
       "\n",
       "     Fuel_consumption_per_transport_work_(pax)_on_laden_voyages_[g_/_pax_·_n_miles]  \\\n",
       "3473                                                NaN                               \n",
       "3109                                                NaN                               \n",
       "2742                                                NaN                               \n",
       "\n",
       "     Fuel_consumption_per_transport_work_(freight)_on_laden_voyages_[g_/_m_tonnes_·_n_miles]  \\\n",
       "3473                                                NaN                                        \n",
       "3109                                                NaN                                        \n",
       "2742                                                NaN                                        \n",
       "\n",
       "     CO₂_emissions_per_distance_on_laden_voyages_[kg_CO₂_/_n_mile]  \\\n",
       "3473                                                NaN              \n",
       "3109                                                NaN              \n",
       "2742                                                NaN              \n",
       "\n",
       "     CO₂_emissions_per_transport_work_(mass)_on_laden_voyages_[g_CO₂_/_m_tonnes_·_n_miles]  \\\n",
       "3473                                                NaN                                      \n",
       "3109                                                NaN                                      \n",
       "2742                                                NaN                                      \n",
       "\n",
       "     CO₂_emissions_per_transport_work_(volume)_on_laden_voyages_[g_CO₂_/_m³_·_n_miles]  \\\n",
       "3473                                                NaN                                  \n",
       "3109                                                NaN                                  \n",
       "2742                                                NaN                                  \n",
       "\n",
       "     CO₂_emissions_per_transport_work_(dwt)_on_laden_voyages_[g_CO₂_/_dwt_carried_·_n_miles]  \\\n",
       "3473                                                NaN                                        \n",
       "3109                                                NaN                                        \n",
       "2742                                                NaN                                        \n",
       "\n",
       "     CO₂_emissions_per_transport_work_(pax)_on_laden_voyages_[g_CO₂_/_pax_·_n_miles]  \\\n",
       "3473                                                NaN                                \n",
       "3109                                                NaN                                \n",
       "2742                                                NaN                                \n",
       "\n",
       "     CO₂_emissions_per_transport_work_(freight)_on_laden_voyages_[g_CO₂_/_m_tonnes_·_n_miles]  \\\n",
       "3473                                                NaN                                         \n",
       "3109                                                NaN                                         \n",
       "2742                                                NaN                                         \n",
       "\n",
       "     Additional_information_to_facilitate_the_understanding_of_the_reported_average_operational_energy_efficiency_indicators  \\\n",
       "3473                                                NaN                                                                        \n",
       "3109                                                NaN                                                                        \n",
       "2742                                                NaN                                                                        \n",
       "\n",
       "     Average_density_of_the_cargo_transported_[m_tonnes_/_m³]  \n",
       "3473                                                NaN        \n",
       "3109                                                NaN        \n",
       "2742                                                NaN        \n",
       "\n",
       "[3 rows x 61 columns]"
      ]
     },
     "execution_count": 23,
     "metadata": {},
     "output_type": "execute_result"
    }
   ],
   "source": [
    "#Ship Type Does NOT remain const for a ship. Cargo and \n",
    "df_c[df_c['IMO_Number'] == 9316103]"
   ]
  },
  {
   "cell_type": "markdown",
   "id": "5c0492d6",
   "metadata": {},
   "source": [
    "<a id='dist'></a>\n",
    "### Total Distance Travelled By Each Ship"
   ]
  },
  {
   "cell_type": "code",
   "execution_count": 24,
   "id": "1878bdbf",
   "metadata": {},
   "outputs": [],
   "source": [
    "cols_of_interest = ['IMO_Number',\n",
    "                    'Reporting_Period',\n",
    "                    'Total_fuel_consumption_[m_tonnes]',\n",
    "                    'Total_CO₂_emissions_[m_tonnes]',\n",
    "                    'Total_time_spent_at_sea_[hours]',\n",
    "                    'Annual_average_Fuel_consumption_per_distance_[kg_/_n_mile]',\n",
    "                    'Annual_average_Fuel_consumption_per_transport_work_(dwt)_[g_/_dwt_carried_·_n_miles]',\n",
    "                    'Annual_average_Fuel_consumption_per_transport_work_(mass)_[g_/_m_tonnes_·_n_miles]'\n",
    "                  ]\n",
    "\n",
    "for c in cols_of_interest:\n",
    "    df_c[c] = pd.to_numeric(df_c[c], errors='coerce')\n",
    "\n",
    "df_dist = df_c[cols_of_interest].copy()"
   ]
  },
  {
   "cell_type": "code",
   "execution_count": 25,
   "id": "8437a183",
   "metadata": {},
   "outputs": [
    {
     "data": {
      "text/html": [
       "<div>\n",
       "<style scoped>\n",
       "    .dataframe tbody tr th:only-of-type {\n",
       "        vertical-align: middle;\n",
       "    }\n",
       "\n",
       "    .dataframe tbody tr th {\n",
       "        vertical-align: top;\n",
       "    }\n",
       "\n",
       "    .dataframe thead th {\n",
       "        text-align: right;\n",
       "    }\n",
       "</style>\n",
       "<table border=\"1\" class=\"dataframe\">\n",
       "  <thead>\n",
       "    <tr style=\"text-align: right;\">\n",
       "      <th></th>\n",
       "      <th>IMO_Number</th>\n",
       "      <th>Reporting_Period</th>\n",
       "      <th>Total_fuel_consumption_[m_tonnes]</th>\n",
       "      <th>Total_CO₂_emissions_[m_tonnes]</th>\n",
       "      <th>Total_time_spent_at_sea_[hours]</th>\n",
       "      <th>Annual_average_Fuel_consumption_per_distance_[kg_/_n_mile]</th>\n",
       "      <th>Annual_average_Fuel_consumption_per_transport_work_(dwt)_[g_/_dwt_carried_·_n_miles]</th>\n",
       "      <th>Annual_average_Fuel_consumption_per_transport_work_(mass)_[g_/_m_tonnes_·_n_miles]</th>\n",
       "    </tr>\n",
       "  </thead>\n",
       "  <tbody>\n",
       "    <tr>\n",
       "      <th>0</th>\n",
       "      <td>5383304</td>\n",
       "      <td>2018</td>\n",
       "      <td>6307.75</td>\n",
       "      <td>20080.25</td>\n",
       "      <td>4170.20</td>\n",
       "      <td>139.07</td>\n",
       "      <td>NaN</td>\n",
       "      <td>NaN</td>\n",
       "    </tr>\n",
       "    <tr>\n",
       "      <th>1</th>\n",
       "      <td>6417097</td>\n",
       "      <td>2018</td>\n",
       "      <td>8125.56</td>\n",
       "      <td>25689.03</td>\n",
       "      <td>4360.57</td>\n",
       "      <td>143.81</td>\n",
       "      <td>NaN</td>\n",
       "      <td>NaN</td>\n",
       "    </tr>\n",
       "  </tbody>\n",
       "</table>\n",
       "</div>"
      ],
      "text/plain": [
       "   IMO_Number  Reporting_Period  Total_fuel_consumption_[m_tonnes]  \\\n",
       "0     5383304              2018                            6307.75   \n",
       "1     6417097              2018                            8125.56   \n",
       "\n",
       "   Total_CO₂_emissions_[m_tonnes]  Total_time_spent_at_sea_[hours]  \\\n",
       "0                        20080.25                          4170.20   \n",
       "1                        25689.03                          4360.57   \n",
       "\n",
       "   Annual_average_Fuel_consumption_per_distance_[kg_/_n_mile]  \\\n",
       "0                                             139.07            \n",
       "1                                             143.81            \n",
       "\n",
       "   Annual_average_Fuel_consumption_per_transport_work_(dwt)_[g_/_dwt_carried_·_n_miles]  \\\n",
       "0                                                NaN                                      \n",
       "1                                                NaN                                      \n",
       "\n",
       "   Annual_average_Fuel_consumption_per_transport_work_(mass)_[g_/_m_tonnes_·_n_miles]  \n",
       "0                                                NaN                                   \n",
       "1                                                NaN                                   "
      ]
     },
     "execution_count": 25,
     "metadata": {},
     "output_type": "execute_result"
    }
   ],
   "source": [
    "df_dist.head(2)"
   ]
  },
  {
   "cell_type": "code",
   "execution_count": 26,
   "id": "851a0e21",
   "metadata": {},
   "outputs": [
    {
     "name": "stdout",
     "output_type": "stream",
     "text": [
      "Missing 3.43% of data required for calc\n"
     ]
    }
   ],
   "source": [
    "#Missing approx 3.5% of data required for calc\n",
    "missing_fuel_data = 100 * df_dist['Annual_average_Fuel_consumption_per_distance_[kg_/_n_mile]'].isna().sum() / df_dist.shape[0]\n",
    "print(f\"Missing {missing_fuel_data :.2f}% of data required for calc\")"
   ]
  },
  {
   "cell_type": "code",
   "execution_count": 27,
   "id": "e50771ba",
   "metadata": {},
   "outputs": [],
   "source": [
    "df_dist['est_dist_annual[n_miles]'] = 1e3 * df_dist['Total_fuel_consumption_[m_tonnes]'] / df_dist['Annual_average_Fuel_consumption_per_distance_[kg_/_n_mile]']"
   ]
  },
  {
   "cell_type": "code",
   "execution_count": 28,
   "id": "7540303b",
   "metadata": {},
   "outputs": [
    {
     "data": {
      "text/plain": [
       "(48559, 9)"
      ]
     },
     "execution_count": 28,
     "metadata": {},
     "output_type": "execute_result"
    }
   ],
   "source": [
    "df_dist.shape"
   ]
  },
  {
   "cell_type": "code",
   "execution_count": 29,
   "id": "3bf8b574",
   "metadata": {},
   "outputs": [
    {
     "data": {
      "text/plain": [
       "(48559, 61)"
      ]
     },
     "execution_count": 29,
     "metadata": {},
     "output_type": "execute_result"
    }
   ],
   "source": [
    "df_c.shape"
   ]
  },
  {
   "cell_type": "code",
   "execution_count": 30,
   "id": "c2bb37b5",
   "metadata": {},
   "outputs": [
    {
     "data": {
      "text/html": [
       "<div>\n",
       "<style scoped>\n",
       "    .dataframe tbody tr th:only-of-type {\n",
       "        vertical-align: middle;\n",
       "    }\n",
       "\n",
       "    .dataframe tbody tr th {\n",
       "        vertical-align: top;\n",
       "    }\n",
       "\n",
       "    .dataframe thead th {\n",
       "        text-align: right;\n",
       "    }\n",
       "</style>\n",
       "<table border=\"1\" class=\"dataframe\">\n",
       "  <thead>\n",
       "    <tr style=\"text-align: right;\">\n",
       "      <th></th>\n",
       "      <th>total_est_milage</th>\n",
       "    </tr>\n",
       "    <tr>\n",
       "      <th>IMO_Number</th>\n",
       "      <th></th>\n",
       "    </tr>\n",
       "  </thead>\n",
       "  <tbody>\n",
       "    <tr>\n",
       "      <th>9336268</th>\n",
       "      <td>584726.550356</td>\n",
       "    </tr>\n",
       "    <tr>\n",
       "      <th>9319466</th>\n",
       "      <td>576432.323717</td>\n",
       "    </tr>\n",
       "    <tr>\n",
       "      <th>9319442</th>\n",
       "      <td>569940.140825</td>\n",
       "    </tr>\n",
       "    <tr>\n",
       "      <th>9351490</th>\n",
       "      <td>537273.921686</td>\n",
       "    </tr>\n",
       "    <tr>\n",
       "      <th>9351505</th>\n",
       "      <td>530678.331600</td>\n",
       "    </tr>\n",
       "  </tbody>\n",
       "</table>\n",
       "</div>"
      ],
      "text/plain": [
       "            total_est_milage\n",
       "IMO_Number                  \n",
       "9336268        584726.550356\n",
       "9319466        576432.323717\n",
       "9319442        569940.140825\n",
       "9351490        537273.921686\n",
       "9351505        530678.331600"
      ]
     },
     "execution_count": 30,
     "metadata": {},
     "output_type": "execute_result"
    }
   ],
   "source": [
    "#Total Dist Travelled By Each Ship\n",
    "df_dist.groupby('IMO_Number').sum()[['est_dist_annual[n_miles]']]\\\n",
    ".sort_values(by=['est_dist_annual[n_miles]'], ascending=False)\\\n",
    ".rename(columns={'est_dist_annual[n_miles]':'total_est_milage'}).head()"
   ]
  },
  {
   "cell_type": "code",
   "execution_count": 31,
   "id": "35aefea4",
   "metadata": {},
   "outputs": [
    {
     "data": {
      "text/html": [
       "<div>\n",
       "<style scoped>\n",
       "    .dataframe tbody tr th:only-of-type {\n",
       "        vertical-align: middle;\n",
       "    }\n",
       "\n",
       "    .dataframe tbody tr th {\n",
       "        vertical-align: top;\n",
       "    }\n",
       "\n",
       "    .dataframe thead th {\n",
       "        text-align: right;\n",
       "    }\n",
       "</style>\n",
       "<table border=\"1\" class=\"dataframe\">\n",
       "  <thead>\n",
       "    <tr style=\"text-align: right;\">\n",
       "      <th></th>\n",
       "      <th>total_est_milage</th>\n",
       "    </tr>\n",
       "    <tr>\n",
       "      <th>IMO_Number</th>\n",
       "      <th></th>\n",
       "    </tr>\n",
       "  </thead>\n",
       "  <tbody>\n",
       "    <tr>\n",
       "      <th>9595175</th>\n",
       "      <td>0.0</td>\n",
       "    </tr>\n",
       "    <tr>\n",
       "      <th>9597020</th>\n",
       "      <td>0.0</td>\n",
       "    </tr>\n",
       "    <tr>\n",
       "      <th>9597032</th>\n",
       "      <td>0.0</td>\n",
       "    </tr>\n",
       "    <tr>\n",
       "      <th>9598153</th>\n",
       "      <td>0.0</td>\n",
       "    </tr>\n",
       "    <tr>\n",
       "      <th>9924912</th>\n",
       "      <td>0.0</td>\n",
       "    </tr>\n",
       "  </tbody>\n",
       "</table>\n",
       "</div>"
      ],
      "text/plain": [
       "            total_est_milage\n",
       "IMO_Number                  \n",
       "9595175                  0.0\n",
       "9597020                  0.0\n",
       "9597032                  0.0\n",
       "9598153                  0.0\n",
       "9924912                  0.0"
      ]
     },
     "execution_count": 31,
     "metadata": {},
     "output_type": "execute_result"
    }
   ],
   "source": [
    "#Total Dist Travelled By Each Ship\n",
    "df_dist.groupby('IMO_Number').sum()[['est_dist_annual[n_miles]']]\\\n",
    ".sort_values(by=['est_dist_annual[n_miles]'], ascending=False)\\\n",
    ".rename(columns={'est_dist_annual[n_miles]':'total_est_milage'}).tail()"
   ]
  },
  {
   "cell_type": "markdown",
   "id": "43d680bd",
   "metadata": {},
   "source": [
    "#### Highest Milage\n",
    "The ship with the highest total milage is [FINNLADY](https://www.vesselfinder.com/vessels/FINNLADY-IMO-9336268-MMSI-230987000) This is a Passenger / Ro-Ro Cargo Ship. This appears to a be significant underestimate after reviewing the data on vessel finder.\n",
    "\n",
    "**This ship travelled ~270k nmiles in 2020 and 21. I've predicted at ~150K nmiles.**\n",
    "\n",
    "This is likely due to the Average Fuel Consumption per Nautical Mile being lowered by idle time and when ships are anchored/docked but still consuming fuel.  \n",
    "\n",
    "#### Lowest Milage\n",
    "\n",
    "Some ships recorded zero fuel consumption e.g [BALI](https://www.vesselfinder.com/vessels/BALI-IMO-9597020-MMSI-229178000). This is clearly a data issue because a review of online data shows that this vessel has been covering approximately 130K nautical miles annualy.\n",
    "\n",
    "#### Milage Per Ship Type\n",
    "Heighest Aggregated Milage per Ship Type is for Ro-pax Ships (Roll-on/Roll-off passenger). \n",
    "\n",
    "Lowest Aggregated Milage per Ship Type is for Oil Tankers and Bulk Cargo. \n"
   ]
  },
  {
   "cell_type": "code",
   "execution_count": 32,
   "id": "e4deca2d",
   "metadata": {},
   "outputs": [],
   "source": [
    "#Some ships appear to have multiple Ship Types associated with them"
   ]
  },
  {
   "cell_type": "code",
   "execution_count": 33,
   "id": "8eef1404",
   "metadata": {},
   "outputs": [
    {
     "data": {
      "text/html": [
       "<div>\n",
       "<style scoped>\n",
       "    .dataframe tbody tr th:only-of-type {\n",
       "        vertical-align: middle;\n",
       "    }\n",
       "\n",
       "    .dataframe tbody tr th {\n",
       "        vertical-align: top;\n",
       "    }\n",
       "\n",
       "    .dataframe thead th {\n",
       "        text-align: right;\n",
       "    }\n",
       "</style>\n",
       "<table border=\"1\" class=\"dataframe\">\n",
       "  <thead>\n",
       "    <tr style=\"text-align: right;\">\n",
       "      <th></th>\n",
       "      <th>Ship_type</th>\n",
       "    </tr>\n",
       "    <tr>\n",
       "      <th>IMO_Number</th>\n",
       "      <th></th>\n",
       "    </tr>\n",
       "  </thead>\n",
       "  <tbody>\n",
       "    <tr>\n",
       "      <th>9316103</th>\n",
       "      <td>3</td>\n",
       "    </tr>\n",
       "    <tr>\n",
       "      <th>9180968</th>\n",
       "      <td>3</td>\n",
       "    </tr>\n",
       "    <tr>\n",
       "      <th>9306835</th>\n",
       "      <td>3</td>\n",
       "    </tr>\n",
       "    <tr>\n",
       "      <th>9186687</th>\n",
       "      <td>3</td>\n",
       "    </tr>\n",
       "    <tr>\n",
       "      <th>9771913</th>\n",
       "      <td>3</td>\n",
       "    </tr>\n",
       "    <tr>\n",
       "      <th>...</th>\n",
       "      <td>...</td>\n",
       "    </tr>\n",
       "    <tr>\n",
       "      <th>9365623</th>\n",
       "      <td>1</td>\n",
       "    </tr>\n",
       "    <tr>\n",
       "      <th>9365635</th>\n",
       "      <td>1</td>\n",
       "    </tr>\n",
       "    <tr>\n",
       "      <th>9365659</th>\n",
       "      <td>1</td>\n",
       "    </tr>\n",
       "    <tr>\n",
       "      <th>9365661</th>\n",
       "      <td>1</td>\n",
       "    </tr>\n",
       "    <tr>\n",
       "      <th>9924912</th>\n",
       "      <td>1</td>\n",
       "    </tr>\n",
       "  </tbody>\n",
       "</table>\n",
       "<p>18191 rows × 1 columns</p>\n",
       "</div>"
      ],
      "text/plain": [
       "            Ship_type\n",
       "IMO_Number           \n",
       "9316103             3\n",
       "9180968             3\n",
       "9306835             3\n",
       "9186687             3\n",
       "9771913             3\n",
       "...               ...\n",
       "9365623             1\n",
       "9365635             1\n",
       "9365659             1\n",
       "9365661             1\n",
       "9924912             1\n",
       "\n",
       "[18191 rows x 1 columns]"
      ]
     },
     "execution_count": 33,
     "metadata": {},
     "output_type": "execute_result"
    }
   ],
   "source": [
    "df_c[['IMO_Number','Ship_type']]\\\n",
    ".drop_duplicates()\\\n",
    ".groupby('IMO_Number')\\\n",
    ".count()\\\n",
    ".sort_values(by='Ship_type', ascending=False)"
   ]
  },
  {
   "cell_type": "code",
   "execution_count": 34,
   "id": "c56c2f72",
   "metadata": {},
   "outputs": [
    {
     "data": {
      "text/html": [
       "<div>\n",
       "<style scoped>\n",
       "    .dataframe tbody tr th:only-of-type {\n",
       "        vertical-align: middle;\n",
       "    }\n",
       "\n",
       "    .dataframe tbody tr th {\n",
       "        vertical-align: top;\n",
       "    }\n",
       "\n",
       "    .dataframe thead th {\n",
       "        text-align: right;\n",
       "    }\n",
       "</style>\n",
       "<table border=\"1\" class=\"dataframe\">\n",
       "  <thead>\n",
       "    <tr style=\"text-align: right;\">\n",
       "      <th></th>\n",
       "      <th>mean_dist_per_ship_type</th>\n",
       "    </tr>\n",
       "    <tr>\n",
       "      <th>Ship_type</th>\n",
       "      <th></th>\n",
       "    </tr>\n",
       "  </thead>\n",
       "  <tbody>\n",
       "    <tr>\n",
       "      <th>Ro-pax ship</th>\n",
       "      <td>66525.757492</td>\n",
       "    </tr>\n",
       "    <tr>\n",
       "      <th>Ro-ro ship</th>\n",
       "      <td>62179.725994</td>\n",
       "    </tr>\n",
       "    <tr>\n",
       "      <th>Container/ro-ro cargo ship</th>\n",
       "      <td>52914.357275</td>\n",
       "    </tr>\n",
       "    <tr>\n",
       "      <th>Container ship</th>\n",
       "      <td>41294.075859</td>\n",
       "    </tr>\n",
       "    <tr>\n",
       "      <th>Refrigerated cargo carrier</th>\n",
       "      <td>36687.911262</td>\n",
       "    </tr>\n",
       "    <tr>\n",
       "      <th>Vehicle carrier</th>\n",
       "      <td>33096.620382</td>\n",
       "    </tr>\n",
       "    <tr>\n",
       "      <th>Passenger ship</th>\n",
       "      <td>33071.293765</td>\n",
       "    </tr>\n",
       "    <tr>\n",
       "      <th>LNG carrier</th>\n",
       "      <td>32306.870329</td>\n",
       "    </tr>\n",
       "    <tr>\n",
       "      <th>Combination carrier</th>\n",
       "      <td>29119.218329</td>\n",
       "    </tr>\n",
       "    <tr>\n",
       "      <th>Gas carrier</th>\n",
       "      <td>28029.084250</td>\n",
       "    </tr>\n",
       "    <tr>\n",
       "      <th>General cargo ship</th>\n",
       "      <td>27504.727431</td>\n",
       "    </tr>\n",
       "    <tr>\n",
       "      <th>Other ship types</th>\n",
       "      <td>27191.975326</td>\n",
       "    </tr>\n",
       "    <tr>\n",
       "      <th>Chemical tanker</th>\n",
       "      <td>26008.565585</td>\n",
       "    </tr>\n",
       "    <tr>\n",
       "      <th>Oil tanker</th>\n",
       "      <td>23045.327145</td>\n",
       "    </tr>\n",
       "    <tr>\n",
       "      <th>Bulk carrier</th>\n",
       "      <td>16652.038901</td>\n",
       "    </tr>\n",
       "  </tbody>\n",
       "</table>\n",
       "</div>"
      ],
      "text/plain": [
       "                            mean_dist_per_ship_type\n",
       "Ship_type                                          \n",
       "Ro-pax ship                            66525.757492\n",
       "Ro-ro ship                             62179.725994\n",
       "Container/ro-ro cargo ship             52914.357275\n",
       "Container ship                         41294.075859\n",
       "Refrigerated cargo carrier             36687.911262\n",
       "Vehicle carrier                        33096.620382\n",
       "Passenger ship                         33071.293765\n",
       "LNG carrier                            32306.870329\n",
       "Combination carrier                    29119.218329\n",
       "Gas carrier                            28029.084250\n",
       "General cargo ship                     27504.727431\n",
       "Other ship types                       27191.975326\n",
       "Chemical tanker                        26008.565585\n",
       "Oil tanker                             23045.327145\n",
       "Bulk carrier                           16652.038901"
      ]
     },
     "execution_count": 34,
     "metadata": {},
     "output_type": "execute_result"
    }
   ],
   "source": [
    "#Just keep most recent ship type\n",
    "df_dist.merge(df_c[['IMO_Number','Ship_type','Reporting_Period']]\\\n",
    ".sort_values(by='Reporting_Period', ascending=False)\\\n",
    ".drop_duplicates(subset=['IMO_Number','Ship_type'])[['IMO_Number','Ship_type']], \n",
    "              left_on='IMO_Number',\n",
    "              right_on='IMO_Number',\n",
    "              how='inner')\\\n",
    ".groupby('Ship_type')\\\n",
    ".mean()[['est_dist_annual[n_miles]']]\\\n",
    ".rename(columns={'est_dist_annual[n_miles]':'mean_dist_per_ship_type'})\\\n",
    ".sort_values(by='mean_dist_per_ship_type', ascending=False)"
   ]
  },
  {
   "cell_type": "code",
   "execution_count": 35,
   "id": "262699cc",
   "metadata": {},
   "outputs": [
    {
     "data": {
      "text/plain": [
       "count     46892.000000\n",
       "mean      28280.457632\n",
       "std       21929.969471\n",
       "min           1.000004\n",
       "25%       11797.222880\n",
       "50%       22208.783589\n",
       "75%       38779.644003\n",
       "max      313736.047275\n",
       "Name: est_dist_annual[n_miles], dtype: float64"
      ]
     },
     "execution_count": 35,
     "metadata": {},
     "output_type": "execute_result"
    }
   ],
   "source": [
    "#Take a look at the distribution of distance covered:\n",
    "df_dist['est_dist_annual[n_miles]'].describe()"
   ]
  },
  {
   "cell_type": "code",
   "execution_count": 36,
   "id": "24382cf3",
   "metadata": {},
   "outputs": [
    {
     "data": {
      "image/png": "[encoded data removed]",
      "text/plain": [
       "<Figure size 432x288 with 1 Axes>"
      ]
     },
     "metadata": {
      "needs_background": "light"
     },
     "output_type": "display_data"
    }
   ],
   "source": [
    "df_dist['est_dist_annual[n_miles]'].plot(kind='hist');"
   ]
  },
  {
   "cell_type": "markdown",
   "id": "97c8ac04",
   "metadata": {},
   "source": [
    "Majority of ships in this data set sailed less than 60,000 nautical miles. "
   ]
  },
  {
   "cell_type": "code",
   "execution_count": 37,
   "id": "4a400c99",
   "metadata": {},
   "outputs": [
    {
     "data": {
      "image/png": "[encoded data removed]",
      "text/plain": [
       "<Figure size 432x288 with 1 Axes>"
      ]
     },
     "metadata": {
      "needs_background": "light"
     },
     "output_type": "display_data"
    }
   ],
   "source": [
    "#Distribution of distance Sailed.\n",
    "fig, ax = plt.subplots()\n",
    "df_dist[(df_dist['est_dist_annual[n_miles]'] > 500) \n",
    "        & (df_dist['est_dist_annual[n_miles]'] <= 2e5)]['est_dist_annual[n_miles]']\\\n",
    ".plot(kind='hist', bins=np.arange(500,1.5e5, 500), ax=ax)\n",
    "ax.set_xlabel('Est Annual Distanced Sailed n miles');"
   ]
  },
  {
   "cell_type": "markdown",
   "id": "85743934",
   "metadata": {},
   "source": [
    "<a id='dwt_collect'></a>\n",
    "### Collect DWT for Each Vessel"
   ]
  },
  {
   "cell_type": "markdown",
   "id": "2235ad25",
   "metadata": {},
   "source": [
    "#Collect all ship summer DWT with webscraping\n",
    "\n",
    "def find_dwt(imo: int, name: str,  headers: dict) -> str:\n",
    "    \"\"\"\n",
    "    helper function to extract DWT from vessel finder.com\n",
    "    \n",
    "    args:\n",
    "        imo: (int) - Unique identified of ship\n",
    "        name: (str) - Name of ship\n",
    "        headers: (dict) (str: str) - Headers to prevent 403 forbidden error - default to None\n",
    "    \n",
    "    returns:\n",
    "        dwt (str): Summer Deadweight unit: t\n",
    "    \"\"\"\n",
    "    \n",
    "    resp = requests.get(f'https://www.vesselfinder.com/vessels/{name}-IMO-{imo}',\n",
    "        headers=headers, timeout=5).text\n",
    "    soup = bs(resp, 'html.parser')\n",
    "    dwt_text = soup.find(lambda x: x.name == 'tr' and 'Deadweight' in x.text).text\n",
    "    dwt = re.findall('\\d{1,}', dwt_text)[0]\n",
    "    return dwt"
   ]
  },
  {
   "cell_type": "markdown",
   "id": "bacd8f3b",
   "metadata": {},
   "source": [
    "#Keep only most recent Name of ship\n",
    "imo_name_dict = df_c[['IMO_Number','Name','Reporting_Period']]\\\n",
    ".sort_values(by=['Reporting_Period'], ascending=False)\\\n",
    ".drop_duplicates(subset=['IMO_Number'], keep='first')[['IMO_Number', 'Name']]\\\n",
    ".set_index('IMO_Number').to_dict()['Name']\n",
    "\n",
    "tot_ships = len(list(imo_name_dict.keys()))\n",
    "\n",
    "with open('config/variables.json','r') as f:\n",
    "    headers = json.load(f)\n",
    "\n",
    "for imo, name in imo_name_dict.items():\n",
    "    if not imo_name_dwt.get(imo):\n",
    "        try:\n",
    "            if len(list(imo_name_dwt.keys())) % 250 == 0:\n",
    "                print(f'Collecting DWT for [{len(list(imo_name_dwt.keys()))}/{tot_ships}]')\n",
    "            imo_name_dwt[imo] = {'name':name, 'dwt':find_dwt(imo, name, headers)}\n",
    "        except Exception as e:\n",
    "            print(f\"Failed on IMO:{imo}, Name:  {name}\")\n",
    "            print(f\"Exception: {e}\")\n",
    "\n",
    "df_imo_dwt = {'imo':[], 'name':[], 'dwt':[]}\n",
    "\n",
    "for k, v in imo_name_dwt.items():\n",
    "    df_imo_dwt['imo'].append(k)\n",
    "    df_imo_dwt['name'].append(v['name'])\n",
    "    df_imo_dwt['dwt'].append(v['dwt'])\n",
    "\n",
    "df_imo_dwt = pd.DataFrame(df_imo_dwt)\n",
    "\n",
    "df_imo_dwt.to_csv('config/dwt_data.csv',index=False)"
   ]
  },
  {
   "cell_type": "code",
   "execution_count": 38,
   "id": "519d0d98",
   "metadata": {},
   "outputs": [
    {
     "data": {
      "text/plain": [
       "'/Users/u1079317/Desktop/analysis/data'"
      ]
     },
     "execution_count": 38,
     "metadata": {},
     "output_type": "execute_result"
    }
   ],
   "source": [
    "os.getcwd()"
   ]
  },
  {
   "cell_type": "code",
   "execution_count": 39,
   "id": "3aaa3f5f",
   "metadata": {},
   "outputs": [],
   "source": [
    "df_dwt = pd.read_csv('dwt_data.csv')"
   ]
  },
  {
   "cell_type": "markdown",
   "id": "47b0a7a4",
   "metadata": {},
   "source": [
    "<a id='emiss'></a>\n",
    "### Emission Profiles\n",
    "\n",
    "How do the emissions profiles differ for the different ship types?\n",
    "\n",
    "\n",
    "#### Defining a Metric for Emmissions\n",
    "[Ref](https://www.dnv.com/maritime/insights/topics/CII-carbon-intensity-indicator/implementation.html)\n",
    "CII = (Annual Fuel Consumption x CO2 Emmission Factor) / (Dist x DWT)\n",
    "\n",
    "[Ref](https://www.verifavia-shipping.com/shipping-carbon-emissions-verification/faq-which-emission-factors-shall-be-used-110.php)\n",
    "CO2 Emission Factor: Aware of range of factors: Heavy Fuel/Diesel 3.2 to Methanol 1.4\n",
    "\n",
    "We can calculate our Emission factor for our Ships with:\n",
    "\n",
    "Total CO2 Emissions / Total Fuel Consumption"
   ]
  },
  {
   "cell_type": "code",
   "execution_count": 40,
   "id": "56f32034",
   "metadata": {},
   "outputs": [],
   "source": [
    "df_dwt.rename(columns={'imo':'IMO_Number'}, inplace=True)"
   ]
  },
  {
   "cell_type": "code",
   "execution_count": 41,
   "id": "3dc21cab",
   "metadata": {},
   "outputs": [],
   "source": [
    "df_dist = df_dist.merge(df_dwt, on=['IMO_Number'], how='left')"
   ]
  },
  {
   "cell_type": "code",
   "execution_count": 42,
   "id": "b9ad64f3",
   "metadata": {},
   "outputs": [],
   "source": [
    "df_dist = df_dist.merge(df_c[['IMO_Number','Reporting_Period','Ship_type']], \n",
    "              how='left', \n",
    "              left_on=['IMO_Number','Reporting_Period'],\n",
    "              right_on=['IMO_Number','Reporting_Period'])"
   ]
  },
  {
   "cell_type": "code",
   "execution_count": 43,
   "id": "1476caa3",
   "metadata": {},
   "outputs": [
    {
     "data": {
      "text/html": [
       "<div>\n",
       "<style scoped>\n",
       "    .dataframe tbody tr th:only-of-type {\n",
       "        vertical-align: middle;\n",
       "    }\n",
       "\n",
       "    .dataframe tbody tr th {\n",
       "        vertical-align: top;\n",
       "    }\n",
       "\n",
       "    .dataframe thead th {\n",
       "        text-align: right;\n",
       "    }\n",
       "</style>\n",
       "<table border=\"1\" class=\"dataframe\">\n",
       "  <thead>\n",
       "    <tr style=\"text-align: right;\">\n",
       "      <th></th>\n",
       "      <th>IMO_Number</th>\n",
       "      <th>Reporting_Period</th>\n",
       "      <th>Total_fuel_consumption_[m_tonnes]</th>\n",
       "      <th>Total_CO₂_emissions_[m_tonnes]</th>\n",
       "      <th>Total_time_spent_at_sea_[hours]</th>\n",
       "      <th>Annual_average_Fuel_consumption_per_distance_[kg_/_n_mile]</th>\n",
       "      <th>Annual_average_Fuel_consumption_per_transport_work_(dwt)_[g_/_dwt_carried_·_n_miles]</th>\n",
       "      <th>Annual_average_Fuel_consumption_per_transport_work_(mass)_[g_/_m_tonnes_·_n_miles]</th>\n",
       "      <th>est_dist_annual[n_miles]</th>\n",
       "      <th>name</th>\n",
       "      <th>dwt</th>\n",
       "      <th>Ship_type</th>\n",
       "    </tr>\n",
       "  </thead>\n",
       "  <tbody>\n",
       "    <tr>\n",
       "      <th>0</th>\n",
       "      <td>5383304</td>\n",
       "      <td>2018</td>\n",
       "      <td>6307.75</td>\n",
       "      <td>20080.25</td>\n",
       "      <td>4170.20</td>\n",
       "      <td>139.07</td>\n",
       "      <td>NaN</td>\n",
       "      <td>NaN</td>\n",
       "      <td>45356.654922</td>\n",
       "      <td>ASTORIA</td>\n",
       "      <td>2153.0</td>\n",
       "      <td>Passenger ship</td>\n",
       "    </tr>\n",
       "    <tr>\n",
       "      <th>1</th>\n",
       "      <td>6417097</td>\n",
       "      <td>2018</td>\n",
       "      <td>8125.56</td>\n",
       "      <td>25689.03</td>\n",
       "      <td>4360.57</td>\n",
       "      <td>143.81</td>\n",
       "      <td>NaN</td>\n",
       "      <td>NaN</td>\n",
       "      <td>56502.051318</td>\n",
       "      <td>MARCO POLO</td>\n",
       "      <td>5180.0</td>\n",
       "      <td>Passenger ship</td>\n",
       "    </tr>\n",
       "  </tbody>\n",
       "</table>\n",
       "</div>"
      ],
      "text/plain": [
       "   IMO_Number  Reporting_Period  Total_fuel_consumption_[m_tonnes]  \\\n",
       "0     5383304              2018                            6307.75   \n",
       "1     6417097              2018                            8125.56   \n",
       "\n",
       "   Total_CO₂_emissions_[m_tonnes]  Total_time_spent_at_sea_[hours]  \\\n",
       "0                        20080.25                          4170.20   \n",
       "1                        25689.03                          4360.57   \n",
       "\n",
       "   Annual_average_Fuel_consumption_per_distance_[kg_/_n_mile]  \\\n",
       "0                                             139.07            \n",
       "1                                             143.81            \n",
       "\n",
       "   Annual_average_Fuel_consumption_per_transport_work_(dwt)_[g_/_dwt_carried_·_n_miles]  \\\n",
       "0                                                NaN                                      \n",
       "1                                                NaN                                      \n",
       "\n",
       "   Annual_average_Fuel_consumption_per_transport_work_(mass)_[g_/_m_tonnes_·_n_miles]  \\\n",
       "0                                                NaN                                    \n",
       "1                                                NaN                                    \n",
       "\n",
       "   est_dist_annual[n_miles]        name     dwt       Ship_type  \n",
       "0              45356.654922     ASTORIA  2153.0  Passenger ship  \n",
       "1              56502.051318  MARCO POLO  5180.0  Passenger ship  "
      ]
     },
     "execution_count": 43,
     "metadata": {},
     "output_type": "execute_result"
    }
   ],
   "source": [
    "df_dist.head(2)"
   ]
  },
  {
   "cell_type": "code",
   "execution_count": 44,
   "id": "298aa0ee",
   "metadata": {},
   "outputs": [
    {
     "data": {
      "text/plain": [
       "count    46905.000000\n",
       "mean         3.137369\n",
       "std          0.172120\n",
       "min          0.283173\n",
       "25%          3.124532\n",
       "50%          3.135251\n",
       "75%          3.155029\n",
       "max         30.092171\n",
       "dtype: float64"
      ]
     },
     "execution_count": 44,
     "metadata": {},
     "output_type": "execute_result"
    }
   ],
   "source": [
    "(df_dist['Total_CO₂_emissions_[m_tonnes]'] / df_dist['Total_fuel_consumption_[m_tonnes]']).describe()"
   ]
  },
  {
   "cell_type": "code",
   "execution_count": 45,
   "id": "6bddfdfa",
   "metadata": {},
   "outputs": [
    {
     "data": {
      "text/plain": [
       "<AxesSubplot:ylabel='Frequency'>"
      ]
     },
     "execution_count": 45,
     "metadata": {},
     "output_type": "execute_result"
    },
    {
     "data": {
      "image/png": "[encoded data removed]",
      "text/plain": [
       "<Figure size 432x288 with 1 Axes>"
      ]
     },
     "metadata": {
      "needs_background": "light"
     },
     "output_type": "display_data"
    }
   ],
   "source": [
    "(df_dist['Total_CO₂_emissions_[m_tonnes]'] / df_dist['Total_fuel_consumption_[m_tonnes]']).plot(kind='hist', bins=25)"
   ]
  },
  {
   "cell_type": "code",
   "execution_count": 46,
   "id": "acd810fd",
   "metadata": {},
   "outputs": [],
   "source": [
    "def CII(row):\n",
    "    \"\"\"\n",
    "    \n",
    "    Helper Function to Calculate CII for each row pandas df\n",
    "    \n",
    "    args:\n",
    "        row: row of pandas df\n",
    "        \n",
    "    return:\n",
    "        cii (float) - CII (g CO2 / (nm . tonne))\n",
    "        \n",
    "    \"\"\"\n",
    "    cii = (\n",
    "    (1e6 * row['Total_CO₂_emissions_[m_tonnes]']) / \n",
    "    (row['est_dist_annual[n_miles]'] * row['dwt'])\n",
    "    )\n",
    "    \n",
    "    return cii"
   ]
  },
  {
   "cell_type": "code",
   "execution_count": 47,
   "id": "10b6896a",
   "metadata": {},
   "outputs": [],
   "source": [
    "df_dist['CII[gCO2/(nm . tonne)]'] = df_dist.apply(lambda x: CII(x), axis=1)"
   ]
  },
  {
   "cell_type": "code",
   "execution_count": 48,
   "id": "296f5fd4",
   "metadata": {},
   "outputs": [
    {
     "data": {
      "text/html": [
       "<div>\n",
       "<style scoped>\n",
       "    .dataframe tbody tr th:only-of-type {\n",
       "        vertical-align: middle;\n",
       "    }\n",
       "\n",
       "    .dataframe tbody tr th {\n",
       "        vertical-align: top;\n",
       "    }\n",
       "\n",
       "    .dataframe thead th {\n",
       "        text-align: right;\n",
       "    }\n",
       "</style>\n",
       "<table border=\"1\" class=\"dataframe\">\n",
       "  <thead>\n",
       "    <tr style=\"text-align: right;\">\n",
       "      <th></th>\n",
       "      <th>IMO_Number</th>\n",
       "      <th>Reporting_Period</th>\n",
       "      <th>Total_fuel_consumption_[m_tonnes]</th>\n",
       "      <th>Total_CO₂_emissions_[m_tonnes]</th>\n",
       "      <th>Total_time_spent_at_sea_[hours]</th>\n",
       "      <th>Annual_average_Fuel_consumption_per_distance_[kg_/_n_mile]</th>\n",
       "      <th>Annual_average_Fuel_consumption_per_transport_work_(dwt)_[g_/_dwt_carried_·_n_miles]</th>\n",
       "      <th>Annual_average_Fuel_consumption_per_transport_work_(mass)_[g_/_m_tonnes_·_n_miles]</th>\n",
       "      <th>est_dist_annual[n_miles]</th>\n",
       "      <th>name</th>\n",
       "      <th>dwt</th>\n",
       "      <th>Ship_type</th>\n",
       "      <th>CII[gCO2/(nm . tonne)]</th>\n",
       "    </tr>\n",
       "  </thead>\n",
       "  <tbody>\n",
       "    <tr>\n",
       "      <th>0</th>\n",
       "      <td>5383304</td>\n",
       "      <td>2018</td>\n",
       "      <td>6307.75</td>\n",
       "      <td>20080.25</td>\n",
       "      <td>4170.20</td>\n",
       "      <td>139.07</td>\n",
       "      <td>NaN</td>\n",
       "      <td>NaN</td>\n",
       "      <td>45356.654922</td>\n",
       "      <td>ASTORIA</td>\n",
       "      <td>2153.0</td>\n",
       "      <td>Passenger ship</td>\n",
       "      <td>205.628860</td>\n",
       "    </tr>\n",
       "    <tr>\n",
       "      <th>1</th>\n",
       "      <td>6417097</td>\n",
       "      <td>2018</td>\n",
       "      <td>8125.56</td>\n",
       "      <td>25689.03</td>\n",
       "      <td>4360.57</td>\n",
       "      <td>143.81</td>\n",
       "      <td>NaN</td>\n",
       "      <td>NaN</td>\n",
       "      <td>56502.051318</td>\n",
       "      <td>MARCO POLO</td>\n",
       "      <td>5180.0</td>\n",
       "      <td>Passenger ship</td>\n",
       "      <td>87.771543</td>\n",
       "    </tr>\n",
       "  </tbody>\n",
       "</table>\n",
       "</div>"
      ],
      "text/plain": [
       "   IMO_Number  Reporting_Period  Total_fuel_consumption_[m_tonnes]  \\\n",
       "0     5383304              2018                            6307.75   \n",
       "1     6417097              2018                            8125.56   \n",
       "\n",
       "   Total_CO₂_emissions_[m_tonnes]  Total_time_spent_at_sea_[hours]  \\\n",
       "0                        20080.25                          4170.20   \n",
       "1                        25689.03                          4360.57   \n",
       "\n",
       "   Annual_average_Fuel_consumption_per_distance_[kg_/_n_mile]  \\\n",
       "0                                             139.07            \n",
       "1                                             143.81            \n",
       "\n",
       "   Annual_average_Fuel_consumption_per_transport_work_(dwt)_[g_/_dwt_carried_·_n_miles]  \\\n",
       "0                                                NaN                                      \n",
       "1                                                NaN                                      \n",
       "\n",
       "   Annual_average_Fuel_consumption_per_transport_work_(mass)_[g_/_m_tonnes_·_n_miles]  \\\n",
       "0                                                NaN                                    \n",
       "1                                                NaN                                    \n",
       "\n",
       "   est_dist_annual[n_miles]        name     dwt       Ship_type  \\\n",
       "0              45356.654922     ASTORIA  2153.0  Passenger ship   \n",
       "1              56502.051318  MARCO POLO  5180.0  Passenger ship   \n",
       "\n",
       "   CII[gCO2/(nm . tonne)]  \n",
       "0              205.628860  \n",
       "1               87.771543  "
      ]
     },
     "execution_count": 48,
     "metadata": {},
     "output_type": "execute_result"
    }
   ],
   "source": [
    "df_dist.head(2)"
   ]
  },
  {
   "cell_type": "code",
   "execution_count": 49,
   "id": "37346b9d",
   "metadata": {},
   "outputs": [],
   "source": [
    "agg_req = ['mean','median','std','min','max']"
   ]
  },
  {
   "cell_type": "code",
   "execution_count": 50,
   "id": "23be6cf1",
   "metadata": {},
   "outputs": [
    {
     "data": {
      "text/plain": [
       "<AxesSubplot:ylabel='Frequency'>"
      ]
     },
     "execution_count": 50,
     "metadata": {},
     "output_type": "execute_result"
    },
    {
     "data": {
      "image/png": "[encoded data removed]",
      "text/plain": [
       "<Figure size 432x288 with 1 Axes>"
      ]
     },
     "metadata": {
      "needs_background": "light"
     },
     "output_type": "display_data"
    }
   ],
   "source": [
    "df_dist['CII[gCO2/(nm . tonne)]'].plot(kind='hist',bins=100)"
   ]
  },
  {
   "cell_type": "code",
   "execution_count": 51,
   "id": "97107954",
   "metadata": {},
   "outputs": [],
   "source": [
    "df_dist_tmp = df_dist[df_dist['CII[gCO2/(nm . tonne)]'] < 250]"
   ]
  },
  {
   "cell_type": "code",
   "execution_count": 52,
   "id": "8374a3c3",
   "metadata": {},
   "outputs": [
    {
     "data": {
      "text/html": [
       "<div>\n",
       "<style scoped>\n",
       "    .dataframe tbody tr th:only-of-type {\n",
       "        vertical-align: middle;\n",
       "    }\n",
       "\n",
       "    .dataframe tbody tr th {\n",
       "        vertical-align: top;\n",
       "    }\n",
       "\n",
       "    .dataframe thead tr th {\n",
       "        text-align: left;\n",
       "    }\n",
       "\n",
       "    .dataframe thead tr:last-of-type th {\n",
       "        text-align: right;\n",
       "    }\n",
       "</style>\n",
       "<table border=\"1\" class=\"dataframe\">\n",
       "  <thead>\n",
       "    <tr>\n",
       "      <th></th>\n",
       "      <th colspan=\"5\" halign=\"left\">CII[gCO2/(nm . tonne)]</th>\n",
       "    </tr>\n",
       "    <tr>\n",
       "      <th></th>\n",
       "      <th>mean</th>\n",
       "      <th>median</th>\n",
       "      <th>std</th>\n",
       "      <th>min</th>\n",
       "      <th>max</th>\n",
       "    </tr>\n",
       "    <tr>\n",
       "      <th>Ship_type</th>\n",
       "      <th></th>\n",
       "      <th></th>\n",
       "      <th></th>\n",
       "      <th></th>\n",
       "      <th></th>\n",
       "    </tr>\n",
       "  </thead>\n",
       "  <tbody>\n",
       "    <tr>\n",
       "      <th>Passenger ship</th>\n",
       "      <td>176.748762</td>\n",
       "      <td>139.129507</td>\n",
       "      <td>170.309337</td>\n",
       "      <td>22.342860</td>\n",
       "      <td>2612.719250</td>\n",
       "    </tr>\n",
       "    <tr>\n",
       "      <th>Ro-pax ship</th>\n",
       "      <td>173.772494</td>\n",
       "      <td>112.669947</td>\n",
       "      <td>201.362809</td>\n",
       "      <td>8.534246</td>\n",
       "      <td>1787.480135</td>\n",
       "    </tr>\n",
       "    <tr>\n",
       "      <th>Ro-ro ship</th>\n",
       "      <td>34.162195</td>\n",
       "      <td>31.398834</td>\n",
       "      <td>16.975180</td>\n",
       "      <td>7.042203</td>\n",
       "      <td>159.643919</td>\n",
       "    </tr>\n",
       "    <tr>\n",
       "      <th>Refrigerated cargo carrier</th>\n",
       "      <td>23.657975</td>\n",
       "      <td>23.290011</td>\n",
       "      <td>7.238835</td>\n",
       "      <td>7.452867</td>\n",
       "      <td>64.906184</td>\n",
       "    </tr>\n",
       "    <tr>\n",
       "      <th>Other ship types</th>\n",
       "      <td>35.848463</td>\n",
       "      <td>17.358105</td>\n",
       "      <td>95.570296</td>\n",
       "      <td>3.710588</td>\n",
       "      <td>1076.363512</td>\n",
       "    </tr>\n",
       "    <tr>\n",
       "      <th>Vehicle carrier</th>\n",
       "      <td>20.609056</td>\n",
       "      <td>17.011019</td>\n",
       "      <td>55.040377</td>\n",
       "      <td>1.590031</td>\n",
       "      <td>2210.852945</td>\n",
       "    </tr>\n",
       "    <tr>\n",
       "      <th>Container/ro-ro cargo ship</th>\n",
       "      <td>19.919350</td>\n",
       "      <td>15.577591</td>\n",
       "      <td>12.147470</td>\n",
       "      <td>4.487801</td>\n",
       "      <td>114.422136</td>\n",
       "    </tr>\n",
       "    <tr>\n",
       "      <th>General cargo ship</th>\n",
       "      <td>14.381446</td>\n",
       "      <td>13.923367</td>\n",
       "      <td>7.124829</td>\n",
       "      <td>1.466900</td>\n",
       "      <td>274.983542</td>\n",
       "    </tr>\n",
       "    <tr>\n",
       "      <th>Gas carrier</th>\n",
       "      <td>16.658445</td>\n",
       "      <td>13.675898</td>\n",
       "      <td>10.904533</td>\n",
       "      <td>2.820199</td>\n",
       "      <td>182.481331</td>\n",
       "    </tr>\n",
       "    <tr>\n",
       "      <th>Combination carrier</th>\n",
       "      <td>17.557986</td>\n",
       "      <td>11.294729</td>\n",
       "      <td>14.388433</td>\n",
       "      <td>2.581852</td>\n",
       "      <td>46.037601</td>\n",
       "    </tr>\n",
       "    <tr>\n",
       "      <th>Container ship</th>\n",
       "      <td>19.665812</td>\n",
       "      <td>9.753317</td>\n",
       "      <td>655.922057</td>\n",
       "      <td>1.177438</td>\n",
       "      <td>55456.853239</td>\n",
       "    </tr>\n",
       "    <tr>\n",
       "      <th>LNG carrier</th>\n",
       "      <td>11.600060</td>\n",
       "      <td>9.277244</td>\n",
       "      <td>30.347984</td>\n",
       "      <td>1.494596</td>\n",
       "      <td>765.917501</td>\n",
       "    </tr>\n",
       "    <tr>\n",
       "      <th>Chemical tanker</th>\n",
       "      <td>13.975093</td>\n",
       "      <td>9.113610</td>\n",
       "      <td>225.061655</td>\n",
       "      <td>0.750349</td>\n",
       "      <td>16484.086597</td>\n",
       "    </tr>\n",
       "    <tr>\n",
       "      <th>Bulk carrier</th>\n",
       "      <td>6.859749</td>\n",
       "      <td>5.164388</td>\n",
       "      <td>86.504716</td>\n",
       "      <td>0.268193</td>\n",
       "      <td>7071.358498</td>\n",
       "    </tr>\n",
       "    <tr>\n",
       "      <th>Oil tanker</th>\n",
       "      <td>16.123731</td>\n",
       "      <td>4.723770</td>\n",
       "      <td>824.049384</td>\n",
       "      <td>0.875416</td>\n",
       "      <td>71386.079939</td>\n",
       "    </tr>\n",
       "  </tbody>\n",
       "</table>\n",
       "</div>"
      ],
      "text/plain": [
       "                           CII[gCO2/(nm . tonne)]                          \\\n",
       "                                             mean      median         std   \n",
       "Ship_type                                                                   \n",
       "Passenger ship                         176.748762  139.129507  170.309337   \n",
       "Ro-pax ship                            173.772494  112.669947  201.362809   \n",
       "Ro-ro ship                              34.162195   31.398834   16.975180   \n",
       "Refrigerated cargo carrier              23.657975   23.290011    7.238835   \n",
       "Other ship types                        35.848463   17.358105   95.570296   \n",
       "Vehicle carrier                         20.609056   17.011019   55.040377   \n",
       "Container/ro-ro cargo ship              19.919350   15.577591   12.147470   \n",
       "General cargo ship                      14.381446   13.923367    7.124829   \n",
       "Gas carrier                             16.658445   13.675898   10.904533   \n",
       "Combination carrier                     17.557986   11.294729   14.388433   \n",
       "Container ship                          19.665812    9.753317  655.922057   \n",
       "LNG carrier                             11.600060    9.277244   30.347984   \n",
       "Chemical tanker                         13.975093    9.113610  225.061655   \n",
       "Bulk carrier                             6.859749    5.164388   86.504716   \n",
       "Oil tanker                              16.123731    4.723770  824.049384   \n",
       "\n",
       "                                                     \n",
       "                                  min           max  \n",
       "Ship_type                                            \n",
       "Passenger ship              22.342860   2612.719250  \n",
       "Ro-pax ship                  8.534246   1787.480135  \n",
       "Ro-ro ship                   7.042203    159.643919  \n",
       "Refrigerated cargo carrier   7.452867     64.906184  \n",
       "Other ship types             3.710588   1076.363512  \n",
       "Vehicle carrier              1.590031   2210.852945  \n",
       "Container/ro-ro cargo ship   4.487801    114.422136  \n",
       "General cargo ship           1.466900    274.983542  \n",
       "Gas carrier                  2.820199    182.481331  \n",
       "Combination carrier          2.581852     46.037601  \n",
       "Container ship               1.177438  55456.853239  \n",
       "LNG carrier                  1.494596    765.917501  \n",
       "Chemical tanker              0.750349  16484.086597  \n",
       "Bulk carrier                 0.268193   7071.358498  \n",
       "Oil tanker                   0.875416  71386.079939  "
      ]
     },
     "execution_count": 52,
     "metadata": {},
     "output_type": "execute_result"
    }
   ],
   "source": [
    "df_dist.groupby('Ship_type').agg({'CII[gCO2/(nm . tonne)]':agg_req})\\\n",
    ".sort_values(by=[('CII[gCO2/(nm . tonne)]', 'median')], ascending=False)"
   ]
  },
  {
   "cell_type": "code",
   "execution_count": 53,
   "id": "5294ac56",
   "metadata": {},
   "outputs": [],
   "source": [
    "df_dist_tmp = df_dist[df_dist['CII[gCO2/(nm . tonne)]'] < 500]"
   ]
  },
  {
   "cell_type": "code",
   "execution_count": 54,
   "id": "782f9f6b",
   "metadata": {},
   "outputs": [
    {
     "data": {
      "image/png": "[encoded data removed]",
      "text/plain": [
       "<Figure size 432x288 with 1 Axes>"
      ]
     },
     "metadata": {
      "needs_background": "light"
     },
     "output_type": "display_data"
    }
   ],
   "source": [
    "fig, ax = plt.subplots()\n",
    "df_dist_tmp[df_dist_tmp['Ship_type'] == 'Passenger ship']['CII[gCO2/(nm . tonne)]'].plot(kind='hist', alpha=.3, label='Passenger ship', ax=ax, bins=100, density=True);\n",
    "df_dist_tmp[df_dist_tmp['Ship_type'] == 'Ro-pax ship']['CII[gCO2/(nm . tonne)]'].plot(kind='hist', alpha=.3, label='Ro-pax ship', ax=ax, bins=100, density=True);\n",
    "\n",
    "ax.legend();\n",
    "ax.set_xlabel('CII[gCO2/(nm . tonne)]');"
   ]
  },
  {
   "cell_type": "code",
   "execution_count": 55,
   "id": "5ebdd67c",
   "metadata": {},
   "outputs": [],
   "source": [
    "df_dist_tmp = df_dist[df_dist['CII[gCO2/(nm . tonne)]'] < 500]"
   ]
  },
  {
   "cell_type": "code",
   "execution_count": 56,
   "id": "4d4889e5",
   "metadata": {},
   "outputs": [
    {
     "data": {
      "image/png": "[encoded data removed]",
      "text/plain": [
       "<Figure size 432x288 with 1 Axes>"
      ]
     },
     "metadata": {
      "needs_background": "light"
     },
     "output_type": "display_data"
    }
   ],
   "source": [
    "fig, ax = plt.subplots()\n",
    "df_dist_tmp[df_dist_tmp['Ship_type'] == 'Oil tanker']['CII[gCO2/(nm . tonne)]'].plot(kind='hist', alpha=.3, label='Oil_Tanker', ax=ax, bins=100);\n",
    "df_dist_tmp[df_dist_tmp['Ship_type'] == 'Bulk carrier']['CII[gCO2/(nm . tonne)]'].plot(kind='hist', alpha=.3, label='Bulk carrier', ax=ax, bins=100);\n",
    "\n",
    "ax.legend();\n",
    "ax.set_xlabel('CII[gCO2/(nm . tonne)]');"
   ]
  },
  {
   "cell_type": "code",
   "execution_count": 57,
   "id": "b38fe6c4",
   "metadata": {},
   "outputs": [
    {
     "data": {
      "image/png": "[encoded data removed]",
      "text/plain": [
       "<Figure size 432x288 with 1 Axes>"
      ]
     },
     "metadata": {
      "needs_background": "light"
     },
     "output_type": "display_data"
    }
   ],
   "source": [
    "df_dist_tmp = df_dist[df_dist['CII[gCO2/(nm . tonne)]'] < 50]\n",
    "fig, ax = plt.subplots()\n",
    "\n",
    "df_dist_tmp[df_dist_tmp['Ship_type'] == 'Oil tanker']['CII[gCO2/(nm . tonne)]'].plot(kind='hist', alpha=.3, label='Oil_Tanker', ax=ax, bins=100);\n",
    "df_dist_tmp[df_dist_tmp['Ship_type'] == 'Bulk carrier']['CII[gCO2/(nm . tonne)]'].plot(kind='hist', alpha=.3, label='Bulk carrier', ax=ax, bins=100);\n",
    "\n",
    "ax.legend();\n",
    "ax.set_xlabel('CII[gCO2/(nm . tonne)]');\n"
   ]
  },
  {
   "cell_type": "markdown",
   "id": "4fb659ae",
   "metadata": {},
   "source": [
    "So it appears that Passenger Ships and Ferries (Roll-on / Roll-off) have the highest median and mean CII\n",
    "\n",
    "Bulk Carrier and Oil Tankers are the lowest."
   ]
  },
  {
   "cell_type": "markdown",
   "id": "f28059be",
   "metadata": {},
   "source": [
    "<a id='dwt'></a>\n",
    "### Emmission Intensity vs DWT\n",
    "\n",
    "There are likley some outliers in the data for Emmission intensity. Orders of magnitude greater than rest. I'll limit the CII[gCO2/(nm . tonne)] to 500."
   ]
  },
  {
   "cell_type": "code",
   "execution_count": 58,
   "id": "445987b5",
   "metadata": {},
   "outputs": [],
   "source": [
    "df_dist_tmp = df_dist[df_dist['CII[gCO2/(nm . tonne)]'] < 500]"
   ]
  },
  {
   "cell_type": "code",
   "execution_count": 59,
   "id": "fbce04e5",
   "metadata": {},
   "outputs": [
    {
     "data": {
      "text/plain": [
       "count     46738.000000\n",
       "mean      56540.479546\n",
       "std       52231.083940\n",
       "min         461.000000\n",
       "25%       17614.000000\n",
       "50%       39975.000000\n",
       "75%       77171.000000\n",
       "max      324272.000000\n",
       "Name: dwt, dtype: float64"
      ]
     },
     "execution_count": 59,
     "metadata": {},
     "output_type": "execute_result"
    }
   ],
   "source": [
    "df_dist_tmp['dwt'].describe()"
   ]
  },
  {
   "cell_type": "code",
   "execution_count": 60,
   "id": "6303ba02",
   "metadata": {},
   "outputs": [
    {
     "name": "stderr",
     "output_type": "stream",
     "text": [
      "/var/folders/h3/gjf9h8qs5hx0m2tbzdm5t69h0dy5s6/T/ipykernel_31818/2665885907.py:1: SettingWithCopyWarning: \n",
      "A value is trying to be set on a copy of a slice from a DataFrame.\n",
      "Try using .loc[row_indexer,col_indexer] = value instead\n",
      "\n",
      "See the caveats in the documentation: https://pandas.pydata.org/pandas-docs/stable/user_guide/indexing.html#returning-a-view-versus-a-copy\n",
      "  df_dist_tmp['dwt_log'] = np.log(df_dist_tmp['dwt'])\n"
     ]
    }
   ],
   "source": [
    "df_dist_tmp['dwt_log'] = np.log(df_dist_tmp['dwt'])"
   ]
  },
  {
   "cell_type": "code",
   "execution_count": 61,
   "id": "5730cb43",
   "metadata": {},
   "outputs": [
    {
     "name": "stderr",
     "output_type": "stream",
     "text": [
      "/var/folders/h3/gjf9h8qs5hx0m2tbzdm5t69h0dy5s6/T/ipykernel_31818/553238219.py:1: SettingWithCopyWarning: \n",
      "A value is trying to be set on a copy of a slice from a DataFrame.\n",
      "Try using .loc[row_indexer,col_indexer] = value instead\n",
      "\n",
      "See the caveats in the documentation: https://pandas.pydata.org/pandas-docs/stable/user_guide/indexing.html#returning-a-view-versus-a-copy\n",
      "  df_dist_tmp['CII_log'] = np.log(df_dist_tmp['CII[gCO2/(nm . tonne)]'])\n"
     ]
    }
   ],
   "source": [
    "df_dist_tmp['CII_log'] = np.log(df_dist_tmp['CII[gCO2/(nm . tonne)]'])"
   ]
  },
  {
   "cell_type": "code",
   "execution_count": 62,
   "id": "eeee940e",
   "metadata": {},
   "outputs": [
    {
     "data": {
      "image/png": "[encoded data removed]",
      "text/plain": [
       "<Figure size 432x288 with 1 Axes>"
      ]
     },
     "metadata": {
      "needs_background": "light"
     },
     "output_type": "display_data"
    }
   ],
   "source": [
    "fig, ax = plt.subplots()\n",
    "ax.scatter(df_dist_tmp['dwt'], df_dist_tmp['CII[gCO2/(nm . tonne)]'])\n",
    "ax.set_xlim(-1e3,5e4);\n",
    "ax.set_xlabel('DWT')\n",
    "ax.set_ylabel('CII');"
   ]
  },
  {
   "cell_type": "code",
   "execution_count": 63,
   "id": "3c83750f",
   "metadata": {},
   "outputs": [
    {
     "data": {
      "image/png": "[encoded data removed]",
      "text/plain": [
       "<Figure size 432x288 with 1 Axes>"
      ]
     },
     "metadata": {
      "needs_background": "light"
     },
     "output_type": "display_data"
    }
   ],
   "source": [
    "fig, ax = plt.subplots()\n",
    "ax.scatter(df_dist_tmp['dwt'], df_dist_tmp['CII[gCO2/(nm . tonne)]'])\n",
    "ax.set_xlim(20e3,350e3)\n",
    "ax.set_ylim(0,100);\n",
    "ax.set_xlabel('DWT')\n",
    "ax.set_ylabel('CII');"
   ]
  },
  {
   "cell_type": "code",
   "execution_count": 64,
   "id": "accc7f4c",
   "metadata": {},
   "outputs": [
    {
     "data": {
      "image/png": "[encoded data removed]",
      "text/plain": [
       "<Figure size 432x288 with 1 Axes>"
      ]
     },
     "metadata": {
      "needs_background": "light"
     },
     "output_type": "display_data"
    }
   ],
   "source": [
    "fig, ax = plt.subplots()\n",
    "ax.scatter(df_dist_tmp['dwt_log'], df_dist_tmp['CII_log'])\n",
    "ax.set_xlabel('log_base_10_DWT')\n",
    "ax.set_ylabel('log_base_10_CII');"
   ]
  },
  {
   "cell_type": "markdown",
   "id": "0e60ec05",
   "metadata": {},
   "source": [
    "There is a non-linear (logarithmic) relationship between DWT and CII. This is clear by noticing the significatn benefits to CII as DWT increases from 500 to 15-20K DWT. However, beyond 20000 DWT. The gains in efficiency begins to drop off. \n",
    "\n",
    "There is a linear relationship between the log(CII) vs log(DWT). This is clear in the final scatter plot."
   ]
  }
 ],
 "metadata": {
  "kernelspec": {
   "display_name": "Python 3 (ipykernel)",
   "language": "python",
   "name": "python3"
  },
  "language_info": {
   "codemirror_mode": {
    "name": "ipython",
    "version": 3
   },
   "file_extension": ".py",
   "mimetype": "text/x-python",
   "name": "python",
   "nbconvert_exporter": "python",
   "pygments_lexer": "ipython3",
   "version": "3.9.13"
  }
 },
 "nbformat": 4,
 "nbformat_minor": 5
}
